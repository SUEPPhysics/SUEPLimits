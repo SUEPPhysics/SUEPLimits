{
 "cells": [
  {
   "cell_type": "code",
   "execution_count": 1,
   "metadata": {},
   "outputs": [],
   "source": [
    "%config InlineBackend.figure_format = 'retina'\n",
    "import matplotlib.pyplot as plt\n",
    "import numpy as np\n",
    "\n",
    "import pandas as pd\n",
    "import os\n",
    "import uproot\n",
    "from scipy import interpolate\n",
    "from scipy.optimize import curve_fit, fsolve\n",
    "\n",
    "plt.style.use('physics.mplstyle')"
   ]
  },
  {
   "cell_type": "code",
   "execution_count": null,
   "metadata": {},
   "outputs": [
    {
     "ename": "KeyInFileError",
     "evalue": "not found: 'limit' (with any cycle number)\n\n    Available keys: 'toys;1'\n\nin file ../higgsCombineSUEP-m750-generic.AsymptoticLimits.mH125.root",
     "output_type": "error",
     "traceback": [
      "\u001b[0;31m---------------------------------------------------------------------------\u001b[0m",
      "\u001b[0;31mKeyInFileError\u001b[0m                            Traceback (most recent call last)",
      "\u001b[0;32m/tmp/ipykernel_1260627/3862300468.py\u001b[0m in \u001b[0;36m<module>\u001b[0;34m\u001b[0m\n\u001b[1;32m      1\u001b[0m \u001b[0mf\u001b[0m \u001b[0;34m=\u001b[0m \u001b[0muproot\u001b[0m\u001b[0;34m.\u001b[0m\u001b[0mopen\u001b[0m\u001b[0;34m(\u001b[0m\u001b[0;34m\"../higgsCombineSUEP-m750-generic.AsymptoticLimits.mH125.root\"\u001b[0m\u001b[0;34m)\u001b[0m\u001b[0;34m\u001b[0m\u001b[0;34m\u001b[0m\u001b[0m\n\u001b[0;32m----> 2\u001b[0;31m \u001b[0mlimit\u001b[0m \u001b[0;34m=\u001b[0m \u001b[0mf\u001b[0m\u001b[0;34m[\u001b[0m\u001b[0;34m'limit'\u001b[0m\u001b[0;34m]\u001b[0m\u001b[0;34m[\u001b[0m\u001b[0;34m'limit'\u001b[0m\u001b[0;34m]\u001b[0m\u001b[0;34m.\u001b[0m\u001b[0marray\u001b[0m\u001b[0;34m(\u001b[0m\u001b[0mlibrary\u001b[0m\u001b[0;34m=\u001b[0m\u001b[0;34m\"np\"\u001b[0m\u001b[0;34m)\u001b[0m\u001b[0;34m\u001b[0m\u001b[0;34m\u001b[0m\u001b[0m\n\u001b[0m\u001b[1;32m      3\u001b[0m \u001b[0mlimit\u001b[0m\u001b[0;34m\u001b[0m\u001b[0;34m\u001b[0m\u001b[0m\n",
      "\u001b[0;32m/work/submit/freerc/miniforge3/envs/dask/lib/python3.9/site-packages/uproot/reading.py\u001b[0m in \u001b[0;36m__getitem__\u001b[0;34m(self, where)\u001b[0m\n\u001b[1;32m   2094\u001b[0m \u001b[0;34m\u001b[0m\u001b[0m\n\u001b[1;32m   2095\u001b[0m         \u001b[0;32melse\u001b[0m\u001b[0;34m:\u001b[0m\u001b[0;34m\u001b[0m\u001b[0;34m\u001b[0m\u001b[0m\n\u001b[0;32m-> 2096\u001b[0;31m             \u001b[0;32mreturn\u001b[0m \u001b[0mself\u001b[0m\u001b[0;34m.\u001b[0m\u001b[0mkey\u001b[0m\u001b[0;34m(\u001b[0m\u001b[0mwhere\u001b[0m\u001b[0;34m)\u001b[0m\u001b[0;34m.\u001b[0m\u001b[0mget\u001b[0m\u001b[0;34m(\u001b[0m\u001b[0;34m)\u001b[0m\u001b[0;34m\u001b[0m\u001b[0;34m\u001b[0m\u001b[0m\n\u001b[0m\u001b[1;32m   2097\u001b[0m \u001b[0;34m\u001b[0m\u001b[0m\n\u001b[1;32m   2098\u001b[0m     \u001b[0;34m@\u001b[0m\u001b[0mproperty\u001b[0m\u001b[0;34m\u001b[0m\u001b[0;34m\u001b[0m\u001b[0m\n",
      "\u001b[0;32m/work/submit/freerc/miniforge3/envs/dask/lib/python3.9/site-packages/uproot/reading.py\u001b[0m in \u001b[0;36mkey\u001b[0;34m(self, where)\u001b[0m\n\u001b[1;32m   2044\u001b[0m             \u001b[0;32mreturn\u001b[0m \u001b[0mlast\u001b[0m\u001b[0;34m\u001b[0m\u001b[0;34m\u001b[0m\u001b[0m\n\u001b[1;32m   2045\u001b[0m         \u001b[0;32melif\u001b[0m \u001b[0mcycle\u001b[0m \u001b[0;32mis\u001b[0m \u001b[0;32mNone\u001b[0m\u001b[0;34m:\u001b[0m\u001b[0;34m\u001b[0m\u001b[0;34m\u001b[0m\u001b[0m\n\u001b[0;32m-> 2046\u001b[0;31m             raise uproot.KeyInFileError(\n\u001b[0m\u001b[1;32m   2047\u001b[0m                 \u001b[0mitem\u001b[0m\u001b[0;34m,\u001b[0m \u001b[0mcycle\u001b[0m\u001b[0;34m=\u001b[0m\u001b[0;34m\"any\"\u001b[0m\u001b[0;34m,\u001b[0m \u001b[0mkeys\u001b[0m\u001b[0;34m=\u001b[0m\u001b[0mself\u001b[0m\u001b[0;34m.\u001b[0m\u001b[0mkeys\u001b[0m\u001b[0;34m(\u001b[0m\u001b[0;34m)\u001b[0m\u001b[0;34m,\u001b[0m \u001b[0mfile_path\u001b[0m\u001b[0;34m=\u001b[0m\u001b[0mself\u001b[0m\u001b[0;34m.\u001b[0m\u001b[0m_file\u001b[0m\u001b[0;34m.\u001b[0m\u001b[0mfile_path\u001b[0m\u001b[0;34m\u001b[0m\u001b[0;34m\u001b[0m\u001b[0m\n\u001b[1;32m   2048\u001b[0m             )\n",
      "\u001b[0;31mKeyInFileError\u001b[0m: not found: 'limit' (with any cycle number)\n\n    Available keys: 'toys;1'\n\nin file ../higgsCombineSUEP-m750-generic.AsymptoticLimits.mH125.root"
     ]
    }
   ],
   "source": [
    "f = uproot.open(\"../higgsCombineSUEP-m750-generic.AsymptoticLimits.mH125.root\")\n",
    "limit = f['limit']['limit'].array(library=\"np\")\n",
    "limit"
   ]
  },
  {
   "cell_type": "code",
   "execution_count": 6,
   "metadata": {},
   "outputs": [],
   "source": [
    "def get_limits(fn):\n",
    "    f = uproot.open(fn)\n",
    "    limit = f[\"limit\"]['limit'].array(library=\"np\")\n",
    "    quant = f[\"limit\"]['quantileExpected'].array(library=\"np\")\n",
    "    \n",
    "    if limit.shape[0] == 1:\n",
    "        return -1\n",
    "    else:\n",
    "        return np.stack([quant,limit])\n",
    "\n",
    "def get_SUEP_file(Mass=125, mdark=2, t=1, decay=\"darkPho\", path=\"./\"):\n",
    "    fname = os.path.join(\n",
    "        \"../higgsCombineSUEP-m{}-md{}-t{}-{}.AsymptoticLimits.mH125.root\".format(Mass, mdark, t, decay)\n",
    "    )\n",
    "    #print (fname)\n",
    "    if os.path.isfile(fname):\n",
    "        return fname\n",
    "    else:\n",
    "        pass"
   ]
  },
  {
   "cell_type": "code",
   "execution_count": 8,
   "metadata": {},
   "outputs": [
    {
     "name": "stdout",
     "output_type": "stream",
     "text": [
      "SUEP m-400 \t:  0.01807 \t+/- [ 0.027 , 0.01254 ]\n",
      "SUEP m-400 \t:  0.01514 \t+/- [ 0.02238 , 0.01036 ]\n",
      "SUEP m-400 \t:  0.01318 \t+/- [ 0.01949 , 0.00924 ]\n",
      "SUEP m-400 \t:  0.01318 \t+/- [ 0.01949 , 0.00924 ]\n",
      "SUEP m-400 \t:  0.02979 \t+/- [ 0.04546 , 0.02067 ]\n"
     ]
    }
   ],
   "source": [
    "temps = [0.5, 1, 2, 3, 4]\n",
    "decay = \"generic\"\n",
    "mass = 400\n",
    "md = 2\n",
    "for temp in temps:\n",
    "    m = mass\n",
    "    limit = get_limits(get_SUEP_file(Mass=m, mdark = md, t=temp, decay=decay))\n",
    "    print(\"SUEP m-\"+ str(m), \"\\t: \", \n",
    "             np.round(limit[1,2],5), \"\\t+/- [\",\n",
    "             np.round(limit[1,3],5), \",\",\n",
    "             np.round(limit[1,1],5), \"]\"\n",
    "        )"
   ]
  },
  {
   "cell_type": "code",
   "execution_count": null,
   "metadata": {},
   "outputs": [],
   "source": [
    "xsec = {\"125\": 34.8, \"400\": 5.9, \"750\": 0.5, \"1000\": 0.17}"
   ]
  },
  {
   "cell_type": "code",
   "execution_count": null,
   "metadata": {},
   "outputs": [],
   "source": [
    "def log_interp1d(xx, yy, kind='linear'):\n",
    "    logx = np.log(xx)\n",
    "    logy = np.log(yy)\n",
    "    lin_interp = interpolate.interp1d(logx, logy, bounds_error=False, fill_value=\"extrapolate\", kind=kind)\n",
    "    log_interp = lambda zz: np.power(np.e, lin_interp(np.log(zz)))\n",
    "    return log_interp"
   ]
  },
  {
   "cell_type": "code",
   "execution_count": null,
   "metadata": {},
   "outputs": [],
   "source": [
    "def plot_dim_interpolate(decay=\"darkPho\", unblind=True, quadratic=False):\n",
    "    limits = []\n",
    "    limitx = []\n",
    "    #temps = [0.5, 1, 2, 3, 4]\n",
    "    #temps = [1.5,3,6]\n",
    "    temps = [1,5,10]\n",
    "    decay = \"generic\"\n",
    "    Mass = 400\n",
    "    md = 5\n",
    "    for temp in temps:\n",
    "        try:\n",
    "            limit = get_limits(get_SUEP_file(Mass=m, mdark = md, t=temp, decay=decay))*xsec[str(Mass)]\n",
    "\n",
    "            if not isinstance(limit, int) and limit.shape == (2,6):\n",
    "                limits.append(limit)\n",
    "                limitx.append(temp)\n",
    "        except:\n",
    "            print(\" failed : \", Mass, \" : \", decay)\n",
    "            pass\n",
    "    limits = np.array(limits)\n",
    "    limitx = np.array(limitx)\n",
    "    \n",
    "    _exp = np.array([l[1][2] for l in limits]) \n",
    "    _s1p = np.array([l[1][1] for l in limits]) \n",
    "    _s1m = np.array([l[1][3] for l in limits]) \n",
    "    _s2p = np.array([l[1][0] for l in limits]) \n",
    "    _s2m = np.array([l[1][4] for l in limits])\n",
    "    _obs = np.array([l[1][5] for l in limits])\n",
    "    \n",
    "    print(_exp)\n",
    "    print(_s2p)\n",
    "    print(_s2m)\n",
    "    print(limitx)\n",
    "    \n",
    "    if quadratic:\n",
    "        exp_limit = interpolate.interp1d(limitx, _exp, bounds_error=False, fill_value=\"extrapolate\", kind=\"quadratic\")\n",
    "        s1p_limit = interpolate.interp1d(limitx, _s1p, bounds_error=False, fill_value=\"extrapolate\", kind=\"quadratic\")\n",
    "        s1m_limit = interpolate.interp1d(limitx, _s1m, bounds_error=False, fill_value=\"extrapolate\", kind=\"quadratic\")\n",
    "        s2p_limit = interpolate.interp1d(limitx, _s2p, bounds_error=False, fill_value=\"extrapolate\", kind=\"quadratic\")\n",
    "        s2m_limit = interpolate.interp1d(limitx, _s2m, bounds_error=False, fill_value=\"extrapolate\", kind=\"quadratic\")\n",
    "        obs_limit = interpolate.interp1d(limitx, _obs, bounds_error=False, fill_value=\"extrapolate\", kind=\"quadratic\")\n",
    "    else:\n",
    "        #exp_limit = interpolate.interp1d(limitx, _exp, bounds_error=False, fill_value=\"extrapolate\", kind=\"linear\")\n",
    "        #s1p_limit = interpolate.interp1d(limitx, _s1p, bounds_error=False, fill_value=\"extrapolate\", kind=\"linear\")\n",
    "        #s1m_limit = interpolate.interp1d(limitx, _s1m, bounds_error=False, fill_value=\"extrapolate\", kind=\"linear\")\n",
    "        #s2p_limit = interpolate.interp1d(limitx, _s2p, bounds_error=False, fill_value=\"extrapolate\", kind=\"linear\")\n",
    "        #s2m_limit = interpolate.interp1d(limitx, _s2m, bounds_error=False, fill_value=\"extrapolate\", kind=\"linear\")\n",
    "        #obs_limit = interpolate.interp1d(limitx, _obs, bounds_error=False, fill_value=\"extrapolate\", kind=\"linear\")\n",
    "        exp_limit = log_interp1d(limitx, _exp)\n",
    "        s1p_limit = log_interp1d(limitx, _s1p)\n",
    "        s1m_limit = log_interp1d(limitx, _s1m)\n",
    "        s2p_limit = log_interp1d(limitx, _s2p)\n",
    "        s2m_limit = log_interp1d(limitx, _s2m)\n",
    "        obs_limit = log_interp1d(limitx, _obs)\n",
    "    print(exp_limit)\n",
    "    plt.figure(figsize=(6,6))\n",
    "    ax = plt.gca()\n",
    "    \n",
    "    plt.plot(limitx, _exp,'.', ms=12, color='black')\n",
    "    #xvar = np.linspace(0,5,5)\n",
    "    xvar = np.array(temps)\n",
    "    plt.plot(xvar, exp_limit(xvar), ls=\"--\", ms=12, color='black', label=\"Median expected\")\n",
    "    \n",
    "    plt.fill_between(xvar, s2m_limit(xvar), s2p_limit(xvar), color=\"#FFCC01\", lw=0, label=\"Expected $\\pm 2\\sigma$\")\n",
    "    plt.fill_between(xvar, s1m_limit(xvar), s1p_limit(xvar), color=\"#00CC00\", lw=0, label=\"Expected $\\pm 1\\sigma$\")\n",
    "\n",
    "    #Observed limit\n",
    "    #plt.plot(limitx, _obs,'.', ms=12, color='black')\n",
    "    #plt.plot(xvar, obs_limit(xvar), ls=\"-\", ms=12, color='black', label=\"Median Observed\")\n",
    "    \n",
    "    #Theoretical cross section\n",
    "    plt.plot((0,1100), \n",
    "             (5.9, 5.9), #*.101,#* 0.101* 2/3, \n",
    "             \"--\", ms=12, color='blue', label=\"$\\sigma_{theory}$ (pb)\")\n",
    "    \n",
    "    #plt.ylabel(r\"$\\sigma(SUEP)$ (fb)\")\n",
    "    #plt.ylabel(r\"$\\mu(\\frac{\\sigma_{obs}}{\\sigma_{theo}})$\")\n",
    "    plt.ylabel(r\"$\\sigma_{obs}$ (pb)\")\n",
    "    plt.xlabel(r\"$Temp$ (GeV)\")\n",
    "    plt.legend(loc=\"upper left\", fontsize=14)\n",
    "    cms = plt.text(\n",
    "        0., 1., u\"CMS $\\it{preliminary}$\",\n",
    "        fontsize=16, fontweight='bold',\n",
    "        horizontalalignment='left', \n",
    "        verticalalignment='bottom', \n",
    "        transform=ax.transAxes\n",
    "    )\n",
    "    lumi = plt.text(\n",
    "        1., 1., r\"%.1f fb$^{-1}$ (13 TeV)\" % 60.0,\n",
    "        fontsize=14, horizontalalignment='right', \n",
    "        verticalalignment='bottom', \n",
    "        transform=ax.transAxes\n",
    "    )\n",
    "    info = plt.text(\n",
    "        0.6, 0.8, r\"$M_{SUEP}$ = 400 GeV\"\"\\n\"\"$M_{d}$ = 2 GeV\"\"\\n\"\"generic\",\n",
    "        fontsize=14, horizontalalignment='left', \n",
    "        verticalalignment='bottom', \n",
    "        transform=ax.transAxes\n",
    "    )\n",
    "    plt.grid(b=True, which='major', color='grey', linestyle='--', alpha=0.3)\n",
    "    plt.xlim([0, 11])\n",
    "    plt.ylim(1e-3,4e5)\n",
    "    plt.yscale(\"log\")\n",
    "    plt.savefig(\"plots/SUEP_limits_m{}_md{}_{}_{}.pdf\".format(Mass, md, temp, decay))\n",
    "    plt.savefig(\"plots/SUEP_limits_m{}_md{}_{}_{}.png\".format(Mass, md, temp, decay))\n",
    "    \n",
    "    plt.show()"
   ]
  },
  {
   "cell_type": "code",
   "execution_count": null,
   "metadata": {},
   "outputs": [],
   "source": [
    "for decay in [\"generic\"]:\n",
    "    print(\"decay : \", decay)\n",
    "    plot_dim_interpolate(decay=decay, unblind=False, quadratic=False)"
   ]
  },
  {
   "cell_type": "code",
   "execution_count": null,
   "metadata": {},
   "outputs": [],
   "source": []
  }
 ],
 "metadata": {
  "kernelspec": {
   "display_name": "SUEP",
   "language": "python",
   "name": "suep"
  },
  "language_info": {
   "codemirror_mode": {
    "name": "ipython",
    "version": 3
   },
   "file_extension": ".py",
   "mimetype": "text/x-python",
   "name": "python",
   "nbconvert_exporter": "python",
   "pygments_lexer": "ipython3",
   "version": "3.9.15"
  }
 },
 "nbformat": 4,
 "nbformat_minor": 4
}
